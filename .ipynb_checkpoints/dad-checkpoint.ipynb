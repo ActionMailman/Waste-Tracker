{
 "cells": [
  {
   "cell_type": "code",
   "execution_count": null,
   "id": "6890162c",
   "metadata": {},
   "outputs": [],
   "source": [
    "import psutil\n",
    "import energyusage\n",
    "import time\n",
    "elec = []\n",
    "import pyRAPL\n",
    "import datetime"
   ]
  },
  {
   "cell_type": "code",
   "execution_count": null,
   "id": "7bf0ba38",
   "metadata": {},
   "outputs": [],
   "source": [
    "pyRAPL.setup()\n",
    "measure = pyRAPL.Measurement('bar')"
   ]
  },
  {
   "cell_type": "code",
   "execution_count": null,
   "id": "a4f1497c",
   "metadata": {},
   "outputs": [],
   "source": [
    "def bunguius():\n",
    "    pyRAPL.setup()\n",
    "    measure = pyRAPL.Measurement('bar')  \n",
    "    while psutil.cpu_percent(interval=1) < 35:\n",
    "        measure.begin()\n",
    "        time.sleep(1)\n",
    "        measure.end()\n",
    "        elec.append(measure.result.pkg[0] / 1000000)"
   ]
  },
  {
   "cell_type": "code",
   "execution_count": null,
   "id": "4fee616c",
   "metadata": {},
   "outputs": [],
   "source": [
    "try:\n",
    "    start_time = datetime.datetime.now()\n",
    "    while True:       \n",
    "        bunguius()\n",
    "except KeyboardInterrupt:\n",
    "    end_time = datetime.datetime.now()\n",
    "    pass"
   ]
  },
  {
   "cell_type": "code",
   "execution_count": null,
   "id": "0876c5bd",
   "metadata": {},
   "outputs": [],
   "source": [
    "str(start_time)"
   ]
  },
  {
   "cell_type": "code",
   "execution_count": null,
   "id": "aeb09813",
   "metadata": {},
   "outputs": [],
   "source": [
    "file = open('usage-info.txt', 'w+')"
   ]
  },
  {
   "cell_type": "code",
   "execution_count": null,
   "id": "53b86422",
   "metadata": {},
   "outputs": [],
   "source": [
    "file.write('Starting Time: ' + str(start_time) + '\\n'\n",
    "'Starting Time: ' + str(end_time) + '\\n'\n",
    "'Electricity Used: ' + str(sum(elec)) + 'Joules \\n'\n",
    ")"
   ]
  },
  {
   "cell_type": "code",
   "execution_count": null,
   "id": "3fc46146",
   "metadata": {},
   "outputs": [],
   "source": []
  }
 ],
 "metadata": {
  "kernelspec": {
   "display_name": "Python 3",
   "language": "python",
   "name": "python3"
  },
  "language_info": {
   "codemirror_mode": {
    "name": "ipython",
    "version": 3
   },
   "file_extension": ".py",
   "mimetype": "text/x-python",
   "name": "python",
   "nbconvert_exporter": "python",
   "pygments_lexer": "ipython3",
   "version": "3.8.5"
  }
 },
 "nbformat": 4,
 "nbformat_minor": 5
}
